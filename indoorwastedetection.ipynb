{
 "cells": [
  {
   "cell_type": "code",
   "execution_count": null,
   "id": "509c2359",
   "metadata": {
    "_cell_guid": "b1076dfc-b9ad-4769-8c92-a6c4dae69d19",
    "_uuid": "8f2839f25d086af736a60e9eeb907d3b93b6e0e5",
    "execution": {
     "iopub.execute_input": "2025-02-09T11:01:30.744632Z",
     "iopub.status.busy": "2025-02-09T11:01:30.744290Z",
     "iopub.status.idle": "2025-02-09T11:01:30.751055Z",
     "shell.execute_reply": "2025-02-09T11:01:30.750157Z",
     "shell.execute_reply.started": "2025-02-09T11:01:30.744604Z"
    },
    "papermill": {
     "duration": 0.002296,
     "end_time": "2025-02-09T12:47:39.810666",
     "exception": false,
     "start_time": "2025-02-09T12:47:39.808370",
     "status": "completed"
    },
    "tags": []
   },
   "outputs": [],
   "source": []
  },
  {
   "cell_type": "code",
   "execution_count": null,
   "id": "c46d08cf",
   "metadata": {
    "papermill": {
     "duration": 0.001614,
     "end_time": "2025-02-09T12:47:39.814382",
     "exception": false,
     "start_time": "2025-02-09T12:47:39.812768",
     "status": "completed"
    },
    "tags": []
   },
   "outputs": [],
   "source": []
  },
  {
   "cell_type": "code",
   "execution_count": null,
   "id": "ada14e29",
   "metadata": {
    "papermill": {
     "duration": 0.001562,
     "end_time": "2025-02-09T12:47:39.817683",
     "exception": false,
     "start_time": "2025-02-09T12:47:39.816121",
     "status": "completed"
    },
    "tags": []
   },
   "outputs": [],
   "source": []
  },
  {
   "cell_type": "code",
   "execution_count": null,
   "id": "0130624a",
   "metadata": {
    "papermill": {
     "duration": 0.001554,
     "end_time": "2025-02-09T12:47:39.820955",
     "exception": false,
     "start_time": "2025-02-09T12:47:39.819401",
     "status": "completed"
    },
    "tags": []
   },
   "outputs": [],
   "source": []
  },
  {
   "cell_type": "code",
   "execution_count": 1,
   "id": "2f9f3456",
   "metadata": {
    "execution": {
     "iopub.execute_input": "2025-02-09T12:47:39.825570Z",
     "iopub.status.busy": "2025-02-09T12:47:39.825298Z",
     "iopub.status.idle": "2025-02-09T12:47:39.829967Z",
     "shell.execute_reply": "2025-02-09T12:47:39.829197Z"
    },
    "papermill": {
     "duration": 0.008626,
     "end_time": "2025-02-09T12:47:39.831292",
     "exception": false,
     "start_time": "2025-02-09T12:47:39.822666",
     "status": "completed"
    },
    "tags": []
   },
   "outputs": [],
   "source": [
    "# import cv2\n",
    "# import matplotlib.pyplot as plt\n",
    "\n",
    "# # Specify the path to your input image\n",
    "# input_image_path = \"/kaggle/input/imagetes/video_20230131_145825_00029_jpg.rf.4e4709b4880012206f6ecd0a4f26465b.jpg\"  # Update with your image path\n",
    "\n",
    "# # Run the model prediction on the input image\n",
    "# # You can adjust the confidence threshold (e.g., conf=0.25) as needed\n",
    "# results = model.predict(source=input_image_path, conf=0.25, show=False)\n",
    "\n",
    "# # The 'results' object is a list; for a single image, we access the first element.\n",
    "# result = results[0]\n",
    "\n",
    "# # Get the annotated image (with bounding boxes and labels) from the result.\n",
    "# # The 'plot()' method returns the annotated image.\n",
    "# annotated_image = result.plot()\n",
    "\n",
    "# # Display the annotated image using matplotlib\n",
    "# plt.figure(figsize=(10, 10))\n",
    "# # OpenCV uses BGR by default, so we convert it to RGB for correct display\n",
    "# plt.imshow(cv2.cvtColor(annotated_image, cv2.COLOR_BGR2RGB))\n",
    "# plt.axis(\"off\")\n",
    "# plt.title(\"Predicted Output\")\n",
    "# plt.show()\n",
    "\n",
    "# # Optionally, print the detection details such as bounding boxes, classes, and confidence scores.\n",
    "# print(\"Detection details:\")\n",
    "# print(result.boxes)\n"
   ]
  },
  {
   "cell_type": "code",
   "execution_count": 2,
   "id": "2ff25af6",
   "metadata": {
    "execution": {
     "iopub.execute_input": "2025-02-09T12:47:39.835590Z",
     "iopub.status.busy": "2025-02-09T12:47:39.835371Z",
     "iopub.status.idle": "2025-02-09T12:47:39.839464Z",
     "shell.execute_reply": "2025-02-09T12:47:39.838694Z"
    },
    "papermill": {
     "duration": 0.007754,
     "end_time": "2025-02-09T12:47:39.840824",
     "exception": false,
     "start_time": "2025-02-09T12:47:39.833070",
     "status": "completed"
    },
    "tags": []
   },
   "outputs": [],
   "source": [
    "# # Uncomment these if you're running in a new environment to ensure packages are installed:\n",
    "# # !pip install ultralytics\n",
    "# # !pip install ray==2.0.0\n",
    "\n",
    "# # -------------------------------\n",
    "# # 1. Patch Ray to Avoid _get_session Error\n",
    "# # -------------------------------\n",
    "# try:\n",
    "#     import ray\n",
    "#     try:\n",
    "#         # Try to import the session module from ray.train._internal\n",
    "#         import ray.train._internal.session as session\n",
    "#         # If the _get_session attribute does not exist, add a dummy version that returns None.\n",
    "#         if not hasattr(session, \"_get_session\"):\n",
    "#             session._get_session = lambda: None\n",
    "#             print(\"Ray patch applied: _get_session has been set to a dummy function.\")\n",
    "#         else:\n",
    "#             print(\"ray.train._internal.session already has _get_session.\")\n",
    "#     except Exception as inner_error:\n",
    "#         print(\"Could not patch ray.train._internal.session:\", inner_error)\n",
    "# except ImportError:\n",
    "#     print(\"Ray is not installed. Skipping ray patching.\")\n",
    "\n",
    "# # -------------------------------\n",
    "# # 2. Imports and Dataset Setup\n",
    "# # -------------------------------\n",
    "# import os\n",
    "# import torch\n",
    "# import yaml\n",
    "# from pathlib import Path\n",
    "# from ultralytics import YOLO\n",
    "\n",
    "# # Set the dataset path (adjust as necessary; this example is for Kaggle)\n",
    "# DATASET_PATH = \"/kaggle/input/wastet\"\n",
    "\n",
    "# # Create a data.yaml configuration file with absolute paths\n",
    "# data_yaml = {\n",
    "#     'train': f\"{DATASET_PATH}/train/images\",\n",
    "#     'val': f\"{DATASET_PATH}/valid/images\",\n",
    "#     'test': f\"{DATASET_PATH}/test/images\",\n",
    "#     'nc': 4,\n",
    "#     'names': ['cap', 'paper', 'plastic', 'shell']\n",
    "# }\n",
    "\n",
    "# # Write the data.yaml file\n",
    "# with open('data.yaml', 'w') as f:\n",
    "#     yaml.dump(data_yaml, f)\n",
    "\n",
    "# print(\"Data configuration saved in data.yaml:\")\n",
    "# with open('data.yaml', 'r') as f:\n",
    "#     print(f.read())\n",
    "\n",
    "# # Verify dataset paths\n",
    "# print(\"Verifying paths:\")\n",
    "# print(\"Train path exists:\", os.path.exists(data_yaml['train']))\n",
    "# print(\"Validation path exists:\", os.path.exists(data_yaml['val']))\n",
    "# print(\"Test path exists:\", os.path.exists(data_yaml['test']))\n",
    "\n",
    "# # Check for GPU availability\n",
    "# print(\"\\nGPU Available:\", torch.cuda.is_available())\n",
    "# if torch.cuda.is_available():\n",
    "#     print(\"GPU Name:\", torch.cuda.get_device_name(0))\n",
    "\n",
    "# # -------------------------------\n",
    "# # 3. Initialize and Train YOLOv8 Model\n",
    "# # -------------------------------\n",
    "# # Initialize YOLOv8 model with a pretrained weight file (you can use 'yolov8n.pt' for fine-tuning)\n",
    "# model = YOLO('yolov8n.pt')\n",
    "\n",
    "# # Training configuration\n",
    "# train_args = {\n",
    "#     'data': str(Path('data.yaml').absolute()),  # Use absolute path to data.yaml\n",
    "#     'epochs': 50,\n",
    "#     'imgsz': 640,\n",
    "#     'batch': 8,\n",
    "#     'patience': 20,\n",
    "#     'device': 0,         # Use GPU if available (0 indicates first GPU)\n",
    "#     'workers': 2,\n",
    "#     'save': True,\n",
    "#     'cache': True,\n",
    "#     'project': 'waste_detection',\n",
    "#     'name': 'training_run',\n",
    "#     'exist_ok': True\n",
    "# }\n",
    "\n",
    "# print(\"\\nStarting training...\")\n",
    "# # Train the model with keyword arguments. The patched Ray callback should now be safe.\n",
    "# model.train(**train_args)\n",
    "# print(\"Training completed successfully!\")\n",
    "\n",
    "# # -------------------------------\n",
    "# # 4. Save the Trained Model\n",
    "# # -------------------------------\n",
    "# model_save_path = 'waste_detection_best.pt'\n",
    "# model.save(model_save_path)\n",
    "# print(f\"\\nModel saved successfully as {model_save_path}\")\n",
    "\n",
    "# # Verify that the model file exists by listing its details\n",
    "# print(\"\\nSaved model file details:\")\n",
    "# !ls -lh {model_save_path}\n"
   ]
  },
  {
   "cell_type": "code",
   "execution_count": 3,
   "id": "71b6ddb0",
   "metadata": {
    "execution": {
     "iopub.execute_input": "2025-02-09T12:47:39.845364Z",
     "iopub.status.busy": "2025-02-09T12:47:39.845171Z",
     "iopub.status.idle": "2025-02-09T12:47:39.848104Z",
     "shell.execute_reply": "2025-02-09T12:47:39.847354Z"
    },
    "papermill": {
     "duration": 0.006376,
     "end_time": "2025-02-09T12:47:39.849280",
     "exception": false,
     "start_time": "2025-02-09T12:47:39.842904",
     "status": "completed"
    },
    "tags": []
   },
   "outputs": [],
   "source": [
    "# import pandas as pd\n",
    "# import matplotlib.pyplot as plt\n",
    "\n",
    "# # Load training results from CSV\n",
    "# results_df = pd.read_csv('/kaggle/working/waste_detection/training_run/results.csv')\n",
    "\n",
    "# # Print available columns to verify the structure\n",
    "# print(\"Columns in results.csv:\", results_df.columns.tolist())\n",
    "\n",
    "# # Create a figure to plot the metrics\n",
    "# plt.figure(figsize=(10, 6))\n",
    "\n",
    "# # Plot Precision, Recall, mAP50, and mAP50-95 over epochs using the corresponding columns\n",
    "# plt.plot(results_df['epoch'], results_df['metrics/precision(B)'], label='Precision (B)', marker='o')\n",
    "# plt.plot(results_df['epoch'], results_df['metrics/recall(B)'], label='Recall (B)', marker='s')\n",
    "# plt.plot(results_df['epoch'], results_df['metrics/mAP50(B)'], label='mAP50 (B)', marker='^')\n",
    "# plt.plot(results_df['epoch'], results_df['metrics/mAP50-95(B)'], label='mAP50-95 (B)', marker='d')\n",
    "\n",
    "# # Customize the plot\n",
    "# plt.xlabel('Epoch')\n",
    "# plt.ylabel('Metric Value')\n",
    "# plt.title('Training Metrics Over Epochs for Waste Detection')\n",
    "# plt.legend()\n",
    "# plt.grid(True)\n",
    "# plt.show()\n"
   ]
  }
 ],
 "metadata": {
  "kaggle": {
   "accelerator": "nvidiaTeslaT4",
   "dataSources": [
    {
     "datasetId": 6631036,
     "sourceId": 10700360,
     "sourceType": "datasetVersion"
    },
    {
     "datasetId": 6631975,
     "sourceId": 10701628,
     "sourceType": "datasetVersion"
    }
   ],
   "dockerImageVersionId": 30887,
   "isGpuEnabled": true,
   "isInternetEnabled": true,
   "language": "python",
   "sourceType": "notebook"
  },
  "kernelspec": {
   "display_name": "Python 3",
   "language": "python",
   "name": "python3"
  },
  "language_info": {
   "codemirror_mode": {
    "name": "ipython",
    "version": 3
   },
   "file_extension": ".py",
   "mimetype": "text/x-python",
   "name": "python",
   "nbconvert_exporter": "python",
   "pygments_lexer": "ipython3",
   "version": "3.10.12"
  },
  "papermill": {
   "default_parameters": {},
   "duration": 3.173256,
   "end_time": "2025-02-09T12:47:40.166608",
   "environment_variables": {},
   "exception": null,
   "input_path": "__notebook__.ipynb",
   "output_path": "__notebook__.ipynb",
   "parameters": {},
   "start_time": "2025-02-09T12:47:36.993352",
   "version": "2.6.0"
  }
 },
 "nbformat": 4,
 "nbformat_minor": 5
}
